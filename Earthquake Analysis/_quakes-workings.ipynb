{
 "cells": [
  {
   "cell_type": "code",
   "execution_count": null,
   "id": "d0bcd8df-986e-4c34-a013-1d975de0d7b5",
   "metadata": {},
   "outputs": [],
   "source": [
    "import pandas as pd"
   ]
  },
  {
   "cell_type": "code",
   "execution_count": null,
   "id": "79d60a3f-6a79-4e48-b107-512eb5bbef10",
   "metadata": {},
   "outputs": [],
   "source": [
    "df = pd.read_csv(\"quakes-cleaned.csv\")\n",
    "\n",
    "required_columns = ['latitude', 'longitude', 'mag', 'time', 'place']\n",
    "missing_columns = [col for col in required_columns if col not in df.columns]\n",
    "if missing_columns:\n",
    "    raise ValueError(f\"Missing required columns in the dataset: {missing_columns}\")\n",
    "df['time'] = pd.to_datetime(df['time'], errors='coerce')"
   ]
  },
  {
   "cell_type": "markdown",
   "id": "bcb94a26-2a52-45cd-8390-d2f978c8b6e4",
   "metadata": {},
   "source": [
    "# 1. Total number of earthquakes"
   ]
  },
  {
   "cell_type": "code",
   "execution_count": null,
   "id": "a8738d11-b849-42b2-a229-e90f93bf1d91",
   "metadata": {},
   "outputs": [],
   "source": [
    "total_earthquakes = df.shape[0]\n",
    "print(f\"Total Earthquakes: {total_earthquakes}\")"
   ]
  },
  {
   "cell_type": "markdown",
   "id": "9ccb772c-91ca-4f78-8050-6a11938409f5",
   "metadata": {},
   "source": [
    "# 2. Highest magnitude earthquake"
   ]
  },
  {
   "cell_type": "code",
   "execution_count": null,
   "id": "d03c62a3-e856-4306-b634-304fcefe93c6",
   "metadata": {},
   "outputs": [],
   "source": [
    "max_magnitude = df['mag'].max()\n",
    "max_magnitude_event = df[df['mag'] == max_magnitude]\n",
    "print(f\"Highest Magnitude Earthquake:\\n{max_magnitude_event}\")"
   ]
  },
  {
   "cell_type": "markdown",
   "id": "72741c00-b727-401a-8cbb-2b01b90eb9dc",
   "metadata": {},
   "source": [
    "# 3. Time of the earliest earthquake"
   ]
  },
  {
   "cell_type": "code",
   "execution_count": null,
   "id": "5f5d19dd-681f-4f09-a696-96c67c46d5d8",
   "metadata": {},
   "outputs": [],
   "source": [
    "earliest_earthquake = df['time'].min()\n",
    "print(f\"Earliest Earthquake Time: {earliest_earthquake}\")"
   ]
  },
  {
   "cell_type": "markdown",
   "id": "e0494bf6-00a4-4ea1-a1a7-ef0ce45c28bb",
   "metadata": {},
   "source": [
    "# 4. Regions Where Earthquakes Rarely Exceed a Minor Magnitude"
   ]
  },
  {
   "cell_type": "code",
   "execution_count": null,
   "id": "ee758569-5683-4a81-8671-88d3de29d7b2",
   "metadata": {},
   "outputs": [],
   "source": [
    "df['is_minor'] = df['mag'] < 4.0\n",
    "place_minor_percentage = (\n",
    "    df.groupby('place')['is_minor']\n",
    "    .mean()\n",
    "    .reset_index(name='minor_quake_percentage')\n",
    "    .sort_values(by='minor_quake_percentage', ascending=False)\n",
    ")"
   ]
  },
  {
   "cell_type": "markdown",
   "id": "b8877811-fa83-4ba0-bbd8-96ddb85880ec",
   "metadata": {},
   "source": [
    "# 5. High-Risk Zones (Clustering-like approach using rounded latitude and longitude)"
   ]
  },
  {
   "cell_type": "code",
   "execution_count": null,
   "id": "cde0e0f7-f291-4c36-9fc1-8cca3664ce7a",
   "metadata": {},
   "outputs": [],
   "source": [
    "df['rounded_lat'] = df['latitude'].round(1)\n",
    "df['rounded_lon'] = df['longitude'].round(1)\n",
    "\n",
    "high_risk_zones = (\n",
    "    df.groupby(['rounded_lat', 'rounded_lon'])\n",
    "    .size()\n",
    "    .reset_index(name='earthquake_count')\n",
    "    .sort_values(by='earthquake_count', ascending=False)\n",
    ")\n",
    "\n",
    "print(\"\\nTop 5 High-Risk Zones (by earthquake count):\")\n",
    "print(high_risk_zones.head(5))"
   ]
  },
  {
   "cell_type": "markdown",
   "id": "bd1e223c-abf7-4b39-b155-983e01c3f384",
   "metadata": {},
   "source": [
    "# 6. The Hour When Earthquakes Are Most Likely to Occur"
   ]
  },
  {
   "cell_type": "code",
   "execution_count": null,
   "id": "40f02afc-ac24-4262-ab5a-f303d2a335dd",
   "metadata": {},
   "outputs": [],
   "source": [
    "df['hour_of_day'] = df['time'].dt.hour\n",
    "hourly_distribution = df['hour_of_day'].value_counts().sort_index()\n",
    "total_earthquakes = hourly_distribution.sum()\n",
    "hourly_probabilities = (hourly_distribution / total_earthquakes) * 100"
   ]
  },
  {
   "cell_type": "markdown",
   "id": "a891b4b8-3379-4079-8b5e-17434bee370c",
   "metadata": {},
   "source": [
    "# 7. Identify the hour with the highest probability"
   ]
  },
  {
   "cell_type": "code",
   "execution_count": null,
   "id": "411a4697-effc-4c7c-9701-cf062edfbddc",
   "metadata": {},
   "outputs": [],
   "source": [
    "most_likely_hour = hourly_probabilities.idxmax()\n",
    "highest_probability = hourly_probabilities.max()\n",
    "print(f\"\\nThe hour when earthquakes are most likely to occur is {most_likely_hour}:00, \"\n",
    "      f\"with a probability of {highest_probability:.2f}%.\")"
   ]
  },
  {
   "cell_type": "markdown",
   "id": "a1b2a2fe-922c-48d2-bc8b-c2719d363a12",
   "metadata": {},
   "source": [
    "# 8. Most Affected Places (Earthquake Frequency by Place)"
   ]
  },
  {
   "cell_type": "code",
   "execution_count": null,
   "id": "031f8a1b-f724-43a5-bdac-0623329894d9",
   "metadata": {},
   "outputs": [],
   "source": [
    "place_counts = df['place'].value_counts().sort_values(ascending=False)\n",
    "most_affected_places = place_counts.head(5)\n",
    "print(\"\\nMost Affected Places:\")\n",
    "print(most_affected_places)"
   ]
  },
  {
   "cell_type": "markdown",
   "id": "027fbaa5-d4df-4464-bb44-20234615f041",
   "metadata": {},
   "source": [
    "# 9. Highlight places where > 90% of earthquakes are minor"
   ]
  },
  {
   "cell_type": "code",
   "execution_count": null,
   "id": "a2882382-7328-4f7a-9ff1-ecdd84a5cfe1",
   "metadata": {},
   "outputs": [],
   "source": [
    "quiet_zones = place_minor_percentage[place_minor_percentage['minor_quake_percentage'] > 0.9]\n",
    "print(\"\\nRegions where earthquakes rarely exceed a minor magnitude (Quiet Zones):\")\n",
    "print(quiet_zones)"
   ]
  },
  {
   "cell_type": "markdown",
   "id": "c44f065d-f38c-42b5-a944-7454aa3b53a4",
   "metadata": {},
   "source": [
    "# 10. Average magnitude of all earthquakes"
   ]
  },
  {
   "cell_type": "code",
   "execution_count": null,
   "id": "8475745b-13e0-40e3-9341-06482fd78bd7",
   "metadata": {},
   "outputs": [],
   "source": [
    "avg_magnitude = df['mag'].mean()\n",
    "print(f\"Average Magnitude: {avg_magnitude}\")"
   ]
  },
  {
   "cell_type": "markdown",
   "id": "e40dede8-0ab2-4907-819e-6ca90c781eeb",
   "metadata": {},
   "source": [
    "# 11. Classification of earthquakes into minor, moderate, major, and great earthquakes"
   ]
  },
  {
   "cell_type": "code",
   "execution_count": null,
   "id": "eda09c88-75e4-484b-8bca-1abfcb00528c",
   "metadata": {},
   "outputs": [],
   "source": [
    "def classify_magnitude(mag):\n",
    "    if mag < 4.0:\n",
    "        return \"Minor\"\n",
    "    elif 4.0 <= mag < 6.0:\n",
    "        return \"Moderate\"\n",
    "    elif 6.0 <= mag < 8.0:\n",
    "        return \"Major\"\n",
    "    else:\n",
    "        return \"Great\"\n",
    "\n",
    "df['magnitude_class'] = df['mag'].apply(classify_magnitude)\n",
    "classification_counts = df['magnitude_class'].value_counts()\n",
    "print(\"Classification of Earthquakes by Magnitude:\")\n",
    "print(classification_counts)"
   ]
  },
  {
   "cell_type": "markdown",
   "id": "53458d5a-9e50-4e50-b602-142fbf34b93b",
   "metadata": {},
   "source": [
    "# 12. Identification of urban centers in high-risk zones"
   ]
  },
  {
   "cell_type": "code",
   "execution_count": null,
   "id": "20d67ac9-6cdd-4771-bc6b-9cc6d6802a72",
   "metadata": {},
   "outputs": [],
   "source": [
    "urban_centers = pd.DataFrame({\n",
    "    'city': ['CityA', 'CityB', 'CityC'],  # Replace with actual data\n",
    "    'latitude': [34.05, 40.71, 51.51],\n",
    "    'longitude': [-118.24, -74.01, -0.13]\n",
    "})"
   ]
  },
  {
   "cell_type": "markdown",
   "id": "010d4779-446d-4d36-ba0c-0e73801c4f54",
   "metadata": {},
   "source": [
    "# 13. Merge earthquake clusters with urban centers to find matches"
   ]
  },
  {
   "cell_type": "code",
   "execution_count": null,
   "id": "8e600d6e-4d31-49db-8aae-e1a56b52ef7a",
   "metadata": {},
   "outputs": [],
   "source": [
    "urban_centers['high_risk_cluster'] = urban_centers.apply(\n",
    "    lambda row: any(\n",
    "        ((row['latitude'] - center[0])**2 + (row['longitude'] - center[1])**2) < 1.0\n",
    "        for center in cluster_centers\n",
    "    ), axis=1\n",
    ")\n",
    "high_risk_urban_centers = urban_centers[urban_centers['high_risk_cluster']]\n",
    "print(\"Urban Centers in High-Risk Zones:\")\n",
    "print(high_risk_urban_centers)"
   ]
  },
  {
   "cell_type": "markdown",
   "id": "555baebb-e98a-40e1-b823-869e8f464587",
   "metadata": {},
   "source": [
    "# 14. The Most Seismic Activity in a Local Area"
   ]
  },
  {
   "cell_type": "code",
   "execution_count": null,
   "id": "1f565e36-84c7-4b05-981b-fee04abfef91",
   "metadata": {},
   "outputs": [],
   "source": [
    "most_seismic_area = high_risk_zones.iloc[0]\n",
    "print(f\"\\nMost Seismic Area: Latitude {most_seismic_area['latitude']}, Longitude {most_seismic_area['longitude']} with {most_seismic_area['count']} events.\")"
   ]
  },
  {
   "cell_type": "code",
   "execution_count": null,
   "id": "c9e7218f-ea30-4c78-b520-04c0a583ff3e",
   "metadata": {},
   "outputs": [],
   "source": []
  }
 ],
 "metadata": {
  "kernelspec": {
   "display_name": "Python 3 (ipykernel)",
   "language": "python",
   "name": "python3"
  },
  "language_info": {
   "codemirror_mode": {
    "name": "ipython",
    "version": 3
   },
   "file_extension": ".py",
   "mimetype": "text/x-python",
   "name": "python",
   "nbconvert_exporter": "python",
   "pygments_lexer": "ipython3",
   "version": "3.12.6"
  }
 },
 "nbformat": 4,
 "nbformat_minor": 5
}
