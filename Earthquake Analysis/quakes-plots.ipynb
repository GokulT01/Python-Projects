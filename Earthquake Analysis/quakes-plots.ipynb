{
 "cells": [
  {
   "cell_type": "code",
   "execution_count": null,
   "id": "3e0ef487-4671-46f5-a45c-96cf1d69e28a",
   "metadata": {},
   "outputs": [],
   "source": [
    "import pandas as pd\n",
    "import plotly.express as px"
   ]
  },
  {
   "cell_type": "markdown",
   "id": "67a21e86-11f2-4a32-a29e-9c74c692bd85",
   "metadata": {},
   "source": [
    "# LOAD DATA from the CSV and Convert time column to datetime"
   ]
  },
  {
   "cell_type": "code",
   "execution_count": null,
   "id": "8763e435-e540-45f1-bcd6-a6692e473f61",
   "metadata": {},
   "outputs": [],
   "source": [
    "df = pd.read_csv(\"quakes-cleaned.csv\")\n",
    "df['time'] = pd.to_datetime(df['time'], errors='coerce', format='mixed')\n",
    "df = df[df['mag'] > 0]"
   ]
  },
  {
   "cell_type": "markdown",
   "id": "99ae3572-9d6c-45b5-a9ef-8d0a04cd23be",
   "metadata": {},
   "source": [
    "# 1. Top 5 High-Risk Zones (Geographic Map)"
   ]
  },
  {
   "cell_type": "code",
   "execution_count": null,
   "id": "6ce8ecab-378e-4e41-a8b9-7bfc93287e64",
   "metadata": {},
   "outputs": [],
   "source": [
    "high_risk_zones = df.groupby(['latitude', 'longitude']).size().reset_index(name='count')\n",
    "high_risk_zones = high_risk_zones.sort_values(by='count', ascending=False).head(5)\n",
    "\n",
    "high_risk_map = px.scatter_geo(\n",
    "    high_risk_zones,\n",
    "    lat='latitude',\n",
    "    lon='longitude',\n",
    "    size='count',\n",
    "    color='count',\n",
    "    title=\"Top 5 High-Risk Zones (Geographic Map)\",\n",
    "    labels={\"count\": \"Earthquake Count\"},\n",
    "    projection=\"natural earth\"\n",
    ")\n",
    "\n",
    "high_risk_map.update_traces(\n",
    "    marker=dict(line=dict(width=2, color='DarkSlateGrey')),\n",
    "    selector=dict(mode='markers')\n",
    ")\n",
    "\n",
    "high_risk_map.update_layout(\n",
    "    title_font_size=20,\n",
    "    geo=dict(showland=True, landcolor=\"lightgrey\", showcountries=True),\n",
    ")\n",
    "\n",
    "high_risk_map.show()"
   ]
  },
  {
   "cell_type": "markdown",
   "id": "625f16dd-ffea-4b9e-b67a-49c67b183347",
   "metadata": {},
   "source": [
    "# 2. Most Seismic Activity in a Local Area (Focus on Most Active Zone)"
   ]
  },
  {
   "cell_type": "code",
   "execution_count": null,
   "id": "b91e13b0-abbb-4015-bab4-a6e065d7eb2d",
   "metadata": {},
   "outputs": [],
   "source": [
    "most_seismic_area = high_risk_zones.iloc[0]\n",
    "\n",
    "most_seismic_area_plot = px.scatter_geo(\n",
    "    df,\n",
    "    lat='latitude',\n",
    "    lon='longitude',\n",
    "    size='mag',\n",
    "    title=f\"Most Seismic Activity: Lat {most_seismic_area['latitude']}, Lon {most_seismic_area['longitude']}\",\n",
    "    labels={\"latitude\": \"Latitude\", \"longitude\": \"Longitude\", \"mag\": \"Magnitude\"}\n",
    ")\n",
    "most_seismic_area_plot.add_scattergeo(\n",
    "    lat=[most_seismic_area['latitude']],\n",
    "    lon=[most_seismic_area['longitude']],\n",
    "    marker=dict(size=15, color='red'),\n",
    "    name=\"Most Active Zone\"\n",
    ")\n",
    "most_seismic_area_plot.show()"
   ]
  },
  {
   "cell_type": "markdown",
   "id": "3a655f42-c683-4e35-87ac-da13caad5467",
   "metadata": {},
   "source": [
    "# 3. Most Affected Places (Bar Chart)"
   ]
  },
  {
   "cell_type": "code",
   "execution_count": null,
   "id": "2dca9e20-80bf-4717-a3dc-ee1944285c84",
   "metadata": {},
   "outputs": [],
   "source": [
    "most_affected_places = df['place'].value_counts().reset_index().head(10)\n",
    "most_affected_places.columns = ['place', 'count']\n",
    "\n",
    "most_affected_places_plot = px.bar(\n",
    "    most_affected_places,\n",
    "    x='place',\n",
    "    y='count',\n",
    "    text='count',\n",
    "    title=\"Top 10 Most Affected Places\",\n",
    "    labels={\"place\": \"Place\", \"count\": \"Earthquake Count\"}\n",
    ")\n",
    "most_affected_places_plot.update_xaxes(tickangle=45)  # Rotate x-axis labels for better readability\n",
    "most_affected_places_plot.show()"
   ]
  },
  {
   "cell_type": "markdown",
   "id": "47a5240c-0bb4-4a69-9091-1f774ae9a5f7",
   "metadata": {},
   "source": [
    "# 4. Earthquake Frequency by Hour (Temporal Analysis)"
   ]
  },
  {
   "cell_type": "code",
   "execution_count": null,
   "id": "adab9bb8-7652-4c14-8079-0217c243d98e",
   "metadata": {},
   "outputs": [],
   "source": [
    "df['hour'] = df['time'].dt.hour\n",
    "earthquake_frequency_by_hour = df['hour'].value_counts().sort_index().reset_index()\n",
    "earthquake_frequency_by_hour.columns = ['hour', 'frequency']\n",
    "\n",
    "hourly_frequency_plot = px.line(\n",
    "    earthquake_frequency_by_hour,\n",
    "    x='hour',\n",
    "    y='frequency',\n",
    "    title=\"Earthquake Frequency by Hour\",\n",
    "    labels={\"hour\": \"Hour of Day (0-23)\", \"frequency\": \"Earthquake Count\"}\n",
    ")\n",
    "hourly_frequency_plot.show()"
   ]
  },
  {
   "cell_type": "markdown",
   "id": "8818267e-1ab8-4dae-b045-4de3539ab4f6",
   "metadata": {},
   "source": [
    "# 5. Average Magnitude of Earthquakes (Distribution)"
   ]
  },
  {
   "cell_type": "code",
   "execution_count": null,
   "id": "84113731-daec-40af-83e2-8f2dc131a55f",
   "metadata": {},
   "outputs": [],
   "source": [
    "avg_magnitude = df['mag'].mean()\n",
    "\n",
    "magnitude_distribution_plot = px.histogram(\n",
    "    df,\n",
    "    x='mag',\n",
    "    nbins=50,\n",
    "    title=f\"Distribution of Earthquake Magnitudes (Average: {avg_magnitude:.2f})\",\n",
    "    labels={\"mag\": \"Magnitude\", \"count\": \"Frequency\"}\n",
    ")\n",
    "magnitude_distribution_plot.add_vline(\n",
    "    x=avg_magnitude,\n",
    "    line_dash=\"dash\",\n",
    "    line_color=\"red\",\n",
    "    annotation_text=f\"Avg Magnitude: {avg_magnitude:.2f}\"\n",
    ")\n",
    "magnitude_distribution_plot.show()"
   ]
  },
  {
   "cell_type": "code",
   "execution_count": null,
   "id": "25c5eb9d-2842-4fcd-ac2b-2c255a60b48b",
   "metadata": {},
   "outputs": [],
   "source": []
  }
 ],
 "metadata": {
  "kernelspec": {
   "display_name": "Python 3 (ipykernel)",
   "language": "python",
   "name": "python3"
  },
  "language_info": {
   "codemirror_mode": {
    "name": "ipython",
    "version": 3
   },
   "file_extension": ".py",
   "mimetype": "text/x-python",
   "name": "python",
   "nbconvert_exporter": "python",
   "pygments_lexer": "ipython3",
   "version": "3.12.6"
  }
 },
 "nbformat": 4,
 "nbformat_minor": 5
}
