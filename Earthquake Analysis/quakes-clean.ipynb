{
 "cells": [
  {
   "cell_type": "code",
   "execution_count": null,
   "id": "3c7366fa-f016-41fa-b705-436bc5f62e11",
   "metadata": {
    "editable": true,
    "slideshow": {
     "slide_type": ""
    },
    "tags": []
   },
   "outputs": [],
   "source": [
    "import pandas as pd\n",
    "\n",
    "try:\n",
    "    url = \"https://earthquake.usgs.gov/earthquakes/feed/v1.0/summary/all_month.csv\"\n",
    "    df = pd.read_csv(url)\n",
    "\n",
    "    df['time'] = pd.to_datetime(df['time'])\n",
    "    df['latitude'] = df['latitude'].astype(float)\n",
    "    df['longitude'] = df['longitude'].astype(float) \n",
    "    df['depth'] = df['depth'].astype(float) \n",
    "    df['mag'] = df['mag'].astype(float) \n",
    "\n",
    "    # Columns to drop based on the analysis above\n",
    "    columns_to_drop = [\n",
    "        'magType', 'nst', 'gap', 'dmin', 'rms', 'net', 'id', 'updated', 'type',\n",
    "        'locationSource', 'magSource', 'horizontalError', 'depthError', 'magError',\n",
    "        'magNst', 'status'\n",
    "    ]\n",
    "    df = df.drop(columns=columns_to_drop)\n",
    "\n",
    "    # Fill missing values for numerical columns with appropriate values (e.g., mean)\n",
    "    df['mag'] = df['mag'].fillna(df['mag'].mean())\n",
    "    df['depth'] = df['depth'].fillna(df['depth'].mean())\n",
    "    df['latitude'] = df['latitude'].fillna(df['latitude'].mean())\n",
    "    df['longitude'] = df['longitude'].fillna(df['longitude'].mean())\n",
    "\n",
    "    df.to_csv(\"quakes-cleaned.csv\", index=False)\n",
    "\n",
    "    print(\"CSV created successfully!\")\n",
    "\n",
    "except Exception as e:\n",
    "    print(f\"Error in creating the CSV: {e}\")"
   ]
  },
  {
   "cell_type": "code",
   "execution_count": null,
   "id": "77b5a3d5-859e-4e15-8a63-50f66dee44de",
   "metadata": {},
   "outputs": [],
   "source": []
  }
 ],
 "metadata": {
  "kernelspec": {
   "display_name": "Python 3 (ipykernel)",
   "language": "python",
   "name": "python3"
  },
  "language_info": {
   "codemirror_mode": {
    "name": "ipython",
    "version": 3
   },
   "file_extension": ".py",
   "mimetype": "text/x-python",
   "name": "python",
   "nbconvert_exporter": "python",
   "pygments_lexer": "ipython3",
   "version": "3.12.6"
  }
 },
 "nbformat": 4,
 "nbformat_minor": 5
}
