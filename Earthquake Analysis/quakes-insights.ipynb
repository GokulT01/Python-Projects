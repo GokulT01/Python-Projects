{
 "cells": [
  {
   "cell_type": "code",
   "execution_count": null,
   "id": "5f55bdd3-c667-4c0d-b593-6086fa6c8786",
   "metadata": {},
   "outputs": [],
   "source": [
    "import pandas as pd"
   ]
  },
  {
   "cell_type": "markdown",
   "id": "1f28d84a-7be0-4d0a-96d0-a3916453e5cd",
   "metadata": {},
   "source": [
    "# Load the cleaned data"
   ]
  },
  {
   "cell_type": "code",
   "execution_count": null,
   "id": "bcca612d-aace-4594-88a7-fcf2d19e03d3",
   "metadata": {},
   "outputs": [],
   "source": [
    "df = pd.read_csv(\"quakes-cleaned.csv\")\n",
    "df['time'] = pd.to_datetime(df['time'], errors='coerce', format='mixed')"
   ]
  },
  {
   "cell_type": "markdown",
   "id": "632f601f-25ca-4b90-b850-e1d10f9b575e",
   "metadata": {},
   "source": [
    "# 1. Top 5 High-Risk Zones\n",
    "# Group by latitude and longitude to find the most active zones"
   ]
  },
  {
   "cell_type": "code",
   "execution_count": null,
   "id": "3c99f04b-1386-4de2-a424-05e4ca73624b",
   "metadata": {},
   "outputs": [],
   "source": [
    "high_risk_zones = df.groupby(['latitude', 'longitude']).size().reset_index(name='count')\n",
    "high_risk_zones = high_risk_zones.sort_values(by='count', ascending=False).head(5)\n",
    "print(\"Top 5 High-Risk Zones:\")\n",
    "print(high_risk_zones)"
   ]
  },
  {
   "cell_type": "markdown",
   "id": "7a789478-60a8-462d-a05b-d7fe472eaf4f",
   "metadata": {},
   "source": [
    "# 2. The Most Seismic Activity in a Local Area\n",
    "# Find the area with the highest number of seismic events"
   ]
  },
  {
   "cell_type": "code",
   "execution_count": null,
   "id": "32d07731-44ba-4e4d-8371-8c771e473f23",
   "metadata": {},
   "outputs": [],
   "source": [
    "most_seismic_area = high_risk_zones.iloc[0]\n",
    "print(f\"\\nMost Seismic Area: Latitude {most_seismic_area['latitude']}, Longitude {most_seismic_area['longitude']} with {most_seismic_area['count']} events.\")"
   ]
  },
  {
   "cell_type": "markdown",
   "id": "82faf23f-82ad-4008-987c-4415a76a5fd1",
   "metadata": {},
   "source": [
    "# 3. Most Affected Places\n",
    "# Count the number of earthquakes by 'place'"
   ]
  },
  {
   "cell_type": "code",
   "execution_count": null,
   "id": "e3fc74b0-20ff-41aa-98c0-dc50ff7640e8",
   "metadata": {},
   "outputs": [],
   "source": [
    "most_affected_places = df['place'].value_counts().reset_index().head(10)\n",
    "most_affected_places.columns = ['place', 'count']\n",
    "print(\"\\nMost Affected Places:\")\n",
    "print(most_affected_places)"
   ]
  },
  {
   "cell_type": "markdown",
   "id": "06f0b502-6878-41da-aa6b-43d3a3bcce70",
   "metadata": {},
   "source": [
    "# 4. Earthquake Frequency by Hour\n",
    "# Extract the hour from the 'time' column"
   ]
  },
  {
   "cell_type": "code",
   "execution_count": null,
   "id": "fa56be4d-aafe-407a-b478-b6c9833498ed",
   "metadata": {},
   "outputs": [],
   "source": [
    "df['hour'] = df['time'].dt.hour\n",
    "earthquake_frequency_by_hour = df['hour'].value_counts().sort_index().reset_index()\n",
    "earthquake_frequency_by_hour.columns = ['hour', 'frequency']\n",
    "print(\"\\nEarthquake Frequency by Hour:\")\n",
    "print(earthquake_frequency_by_hour)"
   ]
  },
  {
   "cell_type": "markdown",
   "id": "ac5bf379-2b38-462e-a57d-95dff60b8c5d",
   "metadata": {},
   "source": [
    "# 5. Average Magnitude of All Earthquakes"
   ]
  },
  {
   "cell_type": "code",
   "execution_count": null,
   "id": "1ebf7043-ae20-45c3-9dfb-194177e6d13f",
   "metadata": {},
   "outputs": [],
   "source": [
    "avg_magnitude = df['mag'].mean()\n",
    "print(f\"\\nAverage Magnitude of Earthquakes: {avg_magnitude:.2f}\")"
   ]
  },
  {
   "cell_type": "code",
   "execution_count": null,
   "id": "054303b3-1914-48fe-ba58-e93f8065749c",
   "metadata": {},
   "outputs": [],
   "source": []
  }
 ],
 "metadata": {
  "kernelspec": {
   "display_name": "Python 3 (ipykernel)",
   "language": "python",
   "name": "python3"
  },
  "language_info": {
   "codemirror_mode": {
    "name": "ipython",
    "version": 3
   },
   "file_extension": ".py",
   "mimetype": "text/x-python",
   "name": "python",
   "nbconvert_exporter": "python",
   "pygments_lexer": "ipython3",
   "version": "3.12.6"
  }
 },
 "nbformat": 4,
 "nbformat_minor": 5
}
